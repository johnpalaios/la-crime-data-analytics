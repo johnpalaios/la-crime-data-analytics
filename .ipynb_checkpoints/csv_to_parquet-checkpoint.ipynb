{
 "cells": [
  {
   "cell_type": "code",
   "execution_count": 1,
   "id": "ab6feaab-c54a-4cc2-bff2-d5e75b892d7f",
   "metadata": {},
   "outputs": [],
   "source": [
    "import pyspark"
   ]
  },
  {
   "cell_type": "code",
   "execution_count": 2,
   "id": "5ed0d9e8-f3ae-4e07-8b1e-7dded8f9d000",
   "metadata": {},
   "outputs": [],
   "source": [
    "from pyspark.sql import SparkSession"
   ]
  },
  {
   "cell_type": "code",
   "execution_count": 3,
   "id": "c2591abc-bee1-42d2-8630-e1cc106b6e2a",
   "metadata": {},
   "outputs": [
    {
     "name": "stderr",
     "output_type": "stream",
     "text": [
      "Setting default log level to \"WARN\".\n",
      "To adjust logging level use sc.setLogLevel(newLevel). For SparkR, use setLogLevel(newLevel).\n",
      "24/02/28 20:35:32 WARN NativeCodeLoader: Unable to load native-hadoop library for your platform... using builtin-java classes where applicable\n",
      "24/02/28 20:35:35 WARN Client: Neither spark.yarn.jars nor spark.yarn.archive is set, falling back to uploading libraries under SPARK_HOME.\n"
     ]
    }
   ],
   "source": [
    "%%capture\n",
    "spark = SparkSession \\\n",
    "    .builder \\\n",
    "    .appName(\"CSV to Parquet\") \\\n",
    "    .getOrCreate()\n",
    ";"
   ]
  },
  {
   "cell_type": "code",
   "execution_count": 11,
   "id": "12a067ad-c72c-4bc1-bc04-808c54e43b2b",
   "metadata": {},
   "outputs": [],
   "source": [
    "file_path = \"/data/parquet/\""
   ]
  },
  {
   "cell_type": "code",
   "execution_count": 4,
   "id": "1e44bc95-fab3-4ad6-b80a-3ad1a888d01e",
   "metadata": {},
   "outputs": [
    {
     "name": "stderr",
     "output_type": "stream",
     "text": [
      "                                                                                \r"
     ]
    }
   ],
   "source": [
    "df = spark.read.options(inferSchema=\"true\", delimiter=\",\", header=\"true\") \\\n",
    "    .csv(\"hdfs://okeanos-master:54310/csv_data/crime_data_2010_2019.csv\")"
   ]
  },
  {
   "cell_type": "code",
   "execution_count": null,
   "id": "3661b753-223c-48ba-b0ab-9e1131f7ca43",
   "metadata": {},
   "outputs": [
    {
     "name": "stderr",
     "output_type": "stream",
     "text": [
      "24/02/28 20:41:58 WARN SparkStringUtils: Truncated the string representation of a plan since it was too large. This behavior can be adjusted by setting 'spark.sql.debug.maxToStringFields'.\n",
      "[Stage 2:=======================>                                   (2 + 2) / 5]\r"
     ]
    }
   ],
   "source": [
    "df.write.parquet(\"/parquet/crime_data_2019.parquet\")"
   ]
  },
  {
   "cell_type": "code",
   "execution_count": 18,
   "id": "3a5946ea-0212-4e1e-8838-176c7197d35f",
   "metadata": {},
   "outputs": [
    {
     "name": "stderr",
     "output_type": "stream",
     "text": [
      "                                                                                \r"
     ]
    }
   ],
   "source": [
    "df2 = spark.read.options(inferSchema=\"true\", delimiter=\",\", header=\"true\") \\\n",
    "    .csv(\"hdfs://okeanos-master:54310/csv_data/crime_data_2020.csv\")"
   ]
  },
  {
   "cell_type": "code",
   "execution_count": 19,
   "id": "8d6847ed-8a19-4bbd-ba3d-46bb4c51529e",
   "metadata": {},
   "outputs": [
    {
     "name": "stderr",
     "output_type": "stream",
     "text": [
      "                                                                                \r"
     ]
    }
   ],
   "source": [
    "df2.write.parquet(\"/parquet/crime_data_2023.parquet\")"
   ]
  },
  {
   "cell_type": "code",
   "execution_count": 22,
   "id": "152a0448-6486-4764-aec0-2071ef7ad6c4",
   "metadata": {},
   "outputs": [],
   "source": [
    "lapd_stations = spark.read.options(inferSchema=\"true\", delimiter=\",\", header=\"true\") \\\n",
    "    .csv(\"hdfs://okeanos-master:54310/csv_data/LAPD_Police_Stations.csv\")"
   ]
  },
  {
   "cell_type": "code",
   "execution_count": 23,
   "id": "7e1c7034-5063-4cf9-aa6a-94319203ed94",
   "metadata": {},
   "outputs": [],
   "source": [
    "lapd_stations.write.parquet(\"/parquet/LAPD_Police_Stations.parquet\")"
   ]
  },
  {
   "cell_type": "code",
   "execution_count": 25,
   "id": "08b7af81-5534-43ba-a336-d6f39e059480",
   "metadata": {},
   "outputs": [],
   "source": [
    "revge = spark.read.options(inferSchema=\"true\", delimiter=\",\", header=\"true\") \\\n",
    "    .csv(\"hdfs://okeanos-master:54310/csv_data/revgecoding.csv\")"
   ]
  },
  {
   "cell_type": "code",
   "execution_count": 26,
   "id": "03a1fcda-2404-4191-a1e4-c53589692feb",
   "metadata": {},
   "outputs": [],
   "source": [
    "revge.write.parquet(\"/parquet/revgecoding.parquet\")"
   ]
  },
  {
   "cell_type": "code",
   "execution_count": 37,
   "id": "7365acbe-c37b-448d-9387-ba7e48f5f138",
   "metadata": {},
   "outputs": [],
   "source": [
    "LA_income_2015 = spark.read.options(inferSchema=\"true\", delimiter=\",\", header=\"true\") \\\n",
    "    .csv(\"hdfs://okeanos-master:54310/csv_data/income/LA_income_2015.csv\")"
   ]
  },
  {
   "cell_type": "code",
   "execution_count": 38,
   "id": "5cf16628-82ab-44cb-97c8-9c1b934cfeb7",
   "metadata": {},
   "outputs": [],
   "source": [
    "LA_income_2017 = spark.read.options(inferSchema=\"true\", delimiter=\",\", header=\"true\") \\\n",
    "    .csv(\"hdfs://okeanos-master:54310/csv_data/income/LA_income_2017.csv\")"
   ]
  },
  {
   "cell_type": "code",
   "execution_count": 39,
   "id": "d42003c2-7eea-4d54-89da-c6585e26406d",
   "metadata": {},
   "outputs": [],
   "source": [
    "LA_income_2019 = spark.read.options(inferSchema=\"true\", delimiter=\",\", header=\"true\") \\\n",
    "    .csv(\"hdfs://okeanos-master:54310/csv_data/income/LA_income_2019.csv\")"
   ]
  },
  {
   "cell_type": "code",
   "execution_count": 40,
   "id": "1b0e94c9-ec64-4842-b461-2494122df36e",
   "metadata": {},
   "outputs": [],
   "source": [
    "LA_income_2021 = spark.read.options(inferSchema=\"true\", delimiter=\",\", header=\"true\") \\\n",
    "    .csv(\"hdfs://okeanos-master:54310/csv_data/income/LA_income_2021.csv\")"
   ]
  },
  {
   "cell_type": "code",
   "execution_count": 41,
   "id": "de0ce8c1-b767-43db-bb89-c24a8fe005b7",
   "metadata": {},
   "outputs": [
    {
     "name": "stderr",
     "output_type": "stream",
     "text": [
      "                                                                                \r"
     ]
    }
   ],
   "source": [
    "LA_income_2015.write.parquet(\"/parquet/income/LA_income_2015.parquet\")\n",
    "LA_income_2017.write.parquet(\"/parquet/income/LA_income_2017.parquet\")\n",
    "LA_income_2019.write.parquet(\"/parquet/income/LA_income_2019.parquet\")\n",
    "LA_income_2021.write.parquet(\"/parquet/income/LA_income_2021.parquet\")"
   ]
  }
 ],
 "metadata": {
  "kernelspec": {
   "display_name": "Python 3 (ipykernel)",
   "language": "python",
   "name": "python3"
  },
  "language_info": {
   "codemirror_mode": {
    "name": "ipython",
    "version": 3
   },
   "file_extension": ".py",
   "mimetype": "text/x-python",
   "name": "python",
   "nbconvert_exporter": "python",
   "pygments_lexer": "ipython3",
   "version": "3.10.12"
  }
 },
 "nbformat": 4,
 "nbformat_minor": 5
}
