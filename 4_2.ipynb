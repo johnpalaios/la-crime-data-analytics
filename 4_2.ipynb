{
 "cells": [
  {
   "cell_type": "markdown",
   "id": "b56c50ab-5769-4e7d-946c-ec870888801c",
   "metadata": {},
   "source": [
    "#### Useful Links \n",
    "- Spark History Server : http://83.212.73.248:18080/\n",
    "- Hadoop YARN (scheduler) : http://83.212.73.248:8088/cluster\n",
    "- HDFS : http://83.212.73.248:9870/dfshealth.html#tab-overview\n",
    "\n",
    "#### Useful Commands : \n",
    "- Connect to okeanos-master (from local) : `$ ssh user@snf-40202.ok-kno.grnetcloud.net `\n",
    "    - Password : 'Rand0m'\n",
    "- Connect to okeanos-worker (from okeanos-master) : `$ ssh okeanos-worker`\n",
    "- Open Jupyter Notebook : `$ jupyter notebook --ip 83.212.73.248 --port 8888`\n",
    "\n",
    "#### Thinks to do :\n",
    "- Make the data Csv to Parquet\n",
    "- Make those columns the type we want\n",
    "- Write the Queries (!)\n",
    "- Benchmark and optimize them etc.\n",
    "- Balance the data onto HDFS across the two datanodes"
   ]
  },
  {
   "cell_type": "markdown",
   "id": "c667a612-a781-4680-bb05-0fdfe7aed047",
   "metadata": {},
   "source": [
    "### Full HDFS path is here : hdfs://okeanos-master:54310/csv_data/\n",
    "and contains :  \n",
    "     \n",
    "     1.  hdfs://okeanos-master:54310/csv_data/LAPD_Police_Stations.csv\n",
    "     2.  hdfs://okeanos-master:54310/csv_data/crime_data_2019.csv \n",
    "     3.  hdfs://okeanos-master:54310/csv_data/crime_data_2023.csv\n",
    "     4.  hdfs://okeanos-master:54310/csv_data/revgecoding.csv \n",
    "     5.  hdfs://okeanos-master:54310/csv_data/income/\n",
    "         1. LA_income_2015.csv\n",
    "         2. LA_income_2017.csv\n",
    "         3. LA_income_2019.csv\n",
    "         4. LA_income_2021.csv"
   ]
  },
  {
   "cell_type": "code",
   "execution_count": 1,
   "id": "95a4e254-eda8-4782-a680-a9fc5c1d69d8",
   "metadata": {},
   "outputs": [],
   "source": [
    "# Pyspark Imports\n",
    "import pyspark\n",
    "from pyspark.sql import SparkSession\n",
    "from pyspark.sql.functions import to_timestamp\n",
    "from pyspark.sql.functions import *\n",
    "from pyspark.sql.functions import to_date\n",
    "from pyspark.sql.functions import col, regexp_replace\n",
    "from pyspark.sql import SparkSession\n",
    "from pyspark import SparkConf, SparkContext\n",
    "from pyspark.sql import functions as F\n",
    "from pyspark.sql.window import Window\n",
    "from pyspark.sql.functions import udf\n",
    "from pyspark.sql.types import DoubleType\n",
    "import geopy.distance\n",
    "import time "
   ]
  },
  {
   "cell_type": "code",
   "execution_count": 2,
   "id": "5bbb858d-c65c-40f6-93c8-eae9504bbf51",
   "metadata": {},
   "outputs": [
    {
     "name": "stderr",
     "output_type": "stream",
     "text": [
      "Setting default log level to \"WARN\".\n",
      "To adjust logging level use sc.setLogLevel(newLevel). For SparkR, use setLogLevel(newLevel).\n",
      "23/12/30 21:56:31 WARN NativeCodeLoader: Unable to load native-hadoop library for your platform... using builtin-java classes where applicable\n",
      "23/12/30 21:56:34 WARN Client: Neither spark.yarn.jars nor spark.yarn.archive is set, falling back to uploading libraries under SPARK_HOME.\n"
     ]
    }
   ],
   "source": [
    "# initialize sparkSession, make the data from csv to parquet,\n",
    "spark = SparkSession \\\n",
    "    .builder \\\n",
    "    .appName(\"4 Executors\") \\\n",
    "    .config(\"spark.driver.memory\", \"1g\") \\\n",
    "    .config(\"spark.executor.memory\", \"1g\") \\\n",
    "    .config(\"spark.executor.instances\", \"4\") \\\n",
    "    .getOrCreate()"
   ]
  },
  {
   "cell_type": "code",
   "execution_count": 3,
   "id": "efaaacbe-53a0-4f5d-bf6f-f6eb6c42e3a1",
   "metadata": {},
   "outputs": [
    {
     "name": "stderr",
     "output_type": "stream",
     "text": [
      "                                                                                \r"
     ]
    }
   ],
   "source": [
    "# load data into memory, do the necessary joins etc. here\n",
    "crime_data = spark.read.parquet(\"hdfs://okeanos-master:54310/parquet/crime_data_*.parquet\")\n",
    "revge = spark.read.parquet(\"hdfs://okeanos-master:54310/parquet/revgecoding.parquet\")\n",
    "# only 2015 income data needed\n",
    "income = spark.read \\\n",
    "            .parquet(\"hdfs://okeanos-master:54310/parquet/income/LA_income_2015.parquet\")\n",
    "lapd_stations = spark.read.parquet(\"hdfs://okeanos-master:54310/parquet/LAPD_Police_Stations.parquet\")"
   ]
  },
  {
   "cell_type": "code",
   "execution_count": 4,
   "id": "b586a4fc-878b-4370-91e1-36faca721379",
   "metadata": {},
   "outputs": [
    {
     "name": "stderr",
     "output_type": "stream",
     "text": [
      "23/12/30 21:57:07 WARN SparkStringUtils: Truncated the string representation of a plan since it was too large. This behavior can be adjusted by setting 'spark.sql.debug.maxToStringFields'.\n",
      "                                                                                \r"
     ]
    },
    {
     "name": "stdout",
     "output_type": "stream",
     "text": [
      "+---------+--------------------+--------------------+--------+-----+-----------+-----------+--------+------+--------------------+--------------------+--------+--------+------------+---------+--------------------+--------------+--------------------+------+------------+--------+--------+--------+--------+--------------------+--------------------+-------+---------+\n",
      "|    DR_NO|           Date Rptd|            DATE OCC|TIME OCC|AREA |  AREA NAME|Rpt Dist No|Part 1-2|Crm Cd|         Crm Cd Desc|             Mocodes|Vict Age|Vict Sex|Vict Descent|Premis Cd|         Premis Desc|Weapon Used Cd|         Weapon Desc|Status| Status Desc|Crm Cd 1|Crm Cd 2|Crm Cd 3|Crm Cd 4|            LOCATION|        Cross Street|    LAT|      LON|\n",
      "+---------+--------------------+--------------------+--------+-----+-----------+-----------+--------+------+--------------------+--------------------+--------+--------+------------+---------+--------------------+--------------+--------------------+------+------------+--------+--------+--------+--------+--------------------+--------------------+-------+---------+\n",
      "|170324440|10/31/2017 12:00:...|10/31/2017 12:00:...|      55|    3|  Southwest|        334|       2|   740|VANDALISM - FELON...|0329 1402 0311 02...|      16|       M|           H|      122|VEHICLE, PASSENGE...|          NULL|                NULL|    IC| Invest Cont|     740|    NULL|    NULL|    NULL|4300 W  ADAMS    ...|                NULL|34.0326|-118.3344|\n",
      "|171009815|05/05/2017 12:00:...|05/04/2017 12:00:...|    1945|   10|West Valley|       1079|       1|   330|BURGLARY FROM VEH...| 0352 0385 0344 1607|      32|       F|           W|      101|              STREET|          NULL|                NULL|    IC| Invest Cont|     330|    NULL|    NULL|    NULL|4700    AQUEDUCT ...|                NULL|34.1562|-118.4737|\n",
      "|170909978|04/26/2017 12:00:...|04/26/2017 12:00:...|    1456|    9|   Van Nuys|        931|       1|   343|SHOPLIFTING-GRAND...|                0325|       0|       X|           X|      403|          DRUG STORE|          NULL|                NULL|    IC| Invest Cont|     343|    NULL|    NULL|    NULL|6200    SEPULVEDA...|                NULL|34.1841|-118.4693|\n",
      "|170104353|01/05/2017 12:00:...|01/05/2017 12:00:...|    2112|    1|    Central|        161|       1|   440|THEFT PLAIN - PET...|                0344|      35|       F|           W|      727|SHOPPING MALL (CO...|          NULL|                NULL|    IC| Invest Cont|     440|    NULL|    NULL|    NULL|700 S  FIGUEROA  ...|                NULL|34.0483|-118.2631|\n",
      "|170701064|12/28/2017 12:00:...|12/28/2017 12:00:...|    1240|    7|   Wilshire|        747|       1|   310|            BURGLARY|      1607 0321 0344|      33|       M|           W|      501|SINGLE FAMILY DWE...|          NULL|                NULL|    IC| Invest Cont|     310|    NULL|    NULL|    NULL|1000    KENISTON ...|                NULL| 34.057|-118.3361|\n",
      "|171220290|08/12/2017 12:00:...|08/12/2017 12:00:...|    1400|   12|77th Street|       1232|       2|   902|VIOLATION OF TEMP...|           0561 1501|      74|       F|           B|      501|SINGLE FAMILY DWE...|           500|UNKNOWN WEAPON/OT...|    AO| Adult Other|     902|    NULL|    NULL|    NULL|5900    5TH      ...|                NULL|33.9873|-118.3225|\n",
      "|171507229|02/23/2017 12:00:...|02/22/2017 12:00:...|    1615|   15|N Hollywood|       1599|       1|   310|            BURGLARY|      1607 0344 1267|       0|       M|           O|      501|SINGLE FAMILY DWE...|          NULL|                NULL|    IC| Invest Cont|     310|    NULL|    NULL|    NULL|7500    MULHOLLAN...|                NULL|34.1284|-118.3568|\n",
      "|170625288|12/12/2017 12:00:...|12/11/2017 12:00:...|    2200|    6|  Hollywood|        644|       1|   420|THEFT FROM MOTOR ...|           1606 0344|       0|       M|           W|      707|      GARAGE/CARPORT|          NULL|                NULL|    IC| Invest Cont|     420|    NULL|    NULL|    NULL|1300 N  FORMOSA  ...|                NULL|34.0944|-118.3462|\n",
      "|170127233|10/17/2017 12:00:...|10/17/2017 12:00:...|    1900|    1|    Central|        154|       1|   230|ASSAULT WITH DEAD...|                0416|      60|       F|           B|      502|MULTI-UNIT DWELLI...|           207|         OTHER KNIFE|    IC| Invest Cont|     230|    NULL|    NULL|    NULL|100 W  5TH       ...|                NULL|34.0467|-118.2485|\n",
      "|171220596|08/14/2017 12:00:...|08/14/2017 12:00:...|    1630|   12|77th Street|       1232|       2|   740|VANDALISM - FELON...|           0329 1307|      37|       M|           B|      122|VEHICLE, PASSENGE...|          NULL|                NULL|    IC| Invest Cont|     740|    NULL|    NULL|    NULL|5800    WEST     ...|                NULL| 33.989|-118.3352|\n",
      "|170307197|02/18/2017 12:00:...|02/18/2017 12:00:...|    1930|    3|  Southwest|        376|       1|   510|    VEHICLE - STOLEN|                NULL|       0|    NULL|        NULL|      108|         PARKING LOT|          NULL|                NULL|    AO| Adult Other|     510|    NULL|    NULL|    NULL|3900 S  HARVARD  ...|                NULL|34.0146|-118.3067|\n",
      "|170710643|05/30/2017 12:00:...|05/29/2017 12:00:...|    1900|    7|   Wilshire|        719|       2|   946|OTHER MISCELLANEO...|                0321|      38|       M|           W|      104|            DRIVEWAY|          NULL|                NULL|    IC| Invest Cont|     946|    NULL|    NULL|    NULL|500 N  LUCERNE   ...|                NULL| 34.079|-118.3248|\n",
      "|171821815|11/02/2017 12:00:...|11/01/2017 12:00:...|    1530|   18|  Southeast|       1842|       2|   812|CRM AGNST CHLD (1...|      0528 1258 0913|      12|       F|           H|      111| BUS-CHARTER/PRIVATE|          NULL|                NULL|    IC| Invest Cont|     812|     850|    NULL|    NULL|200 E  112TH     ...|                NULL| 33.933|-118.2717|\n",
      "|170609222|03/27/2017 12:00:...|01/17/2017 12:00:...|       1|    6|  Hollywood|        643|       2|   354|   THEFT OF IDENTITY|           1822 0930|      44|       M|           H|      501|SINGLE FAMILY DWE...|          NULL|                NULL|    IC| Invest Cont|     354|    NULL|    NULL|    NULL|1600 N  VISTA    ...|                NULL|34.0999|-118.3519|\n",
      "|170117594|06/21/2017 12:00:...|06/19/2017 12:00:...|    1130|    1|    Central|        138|       1|   236|INTIMATE PARTNER ...|2000 1814 1813 04...|      39|       F|           W|      502|MULTI-UNIT DWELLI...|           400|STRONG-ARM (HANDS...|    AO| Adult Other|     236|    NULL|    NULL|    NULL|200 S  SAN PEDRO ...|                NULL|34.0493|-118.2418|\n",
      "|170123954|09/05/2017 12:00:...|09/05/2017 12:00:...|      46|    1|    Central|        171|       2|   951|DEFRAUDING INNKEE...|                1231|       0|       X|           X|      114|                TAXI|          NULL|                NULL|    IC| Invest Cont|     951|    NULL|    NULL|    NULL|900 W  OLYMPIC   ...|                NULL|34.0454|-118.2657|\n",
      "|171614115|09/10/2017 12:00:...|09/09/2017 12:00:...|    2100|   16|   Foothill|       1605|       1|   510|    VEHICLE - STOLEN|                NULL|       0|    NULL|        NULL|      101|              STREET|          NULL|                NULL|    IC| Invest Cont|     510|    NULL|    NULL|    NULL|                HOYT|              FENTON| 34.285|-118.3946|\n",
      "|171508039|03/06/2017 12:00:...|03/01/2017 12:00:...|    1200|   15|N Hollywood|       1545|       2|   860|BATTERY WITH SEXU...| 1202 1822 0509 0522|      61|       F|           W|      122|VEHICLE, PASSENGE...|           400|STRONG-ARM (HANDS...|    IC| Invest Cont|     860|    NULL|    NULL|    NULL|11900    WEDDINGT...|                NULL|34.1667|-118.3922|\n",
      "|171813849|06/23/2017 12:00:...|06/23/2017 12:00:...|      50|   18|  Southeast|       1841|       2|   890|    FAILURE TO YIELD|           2003 1309|       0|       M|           O|      101|              STREET|          NULL|                NULL|    AA|Adult Arrest|     890|    NULL|    NULL|    NULL|MANCHESTER       ...|FIGUEROA         ...|33.9367|-118.2871|\n",
      "|170809603|05/02/2017 12:00:...|05/02/2017 12:00:...|     200|    8|    West LA|        889|       2|   626|INTIMATE PARTNER ...|2000 1813 0448 04...|      35|       F|           W|      501|SINGLE FAMILY DWE...|           400|STRONG-ARM (HANDS...|    AO| Adult Other|     626|    NULL|    NULL|    NULL|8500    CADILLAC ...|                NULL|34.0425|-118.3818|\n",
      "+---------+--------------------+--------------------+--------+-----+-----------+-----------+--------+------+--------------------+--------------------+--------+--------+------------+---------+--------------------+--------------+--------------------+------+------------+--------+--------+--------+--------+--------------------+--------------------+-------+---------+\n",
      "only showing top 20 rows\n",
      "\n"
     ]
    }
   ],
   "source": [
    "crime_data.show()"
   ]
  },
  {
   "cell_type": "code",
   "execution_count": 5,
   "id": "c0098ff2-3857-4604-8d16-5c26d003759e",
   "metadata": {},
   "outputs": [
    {
     "name": "stdout",
     "output_type": "stream",
     "text": [
      "root\n",
      " |-- DR_NO: integer (nullable = true)\n",
      " |-- Date Rptd: string (nullable = true)\n",
      " |-- DATE OCC: string (nullable = true)\n",
      " |-- TIME OCC: integer (nullable = true)\n",
      " |-- AREA : integer (nullable = true)\n",
      " |-- AREA NAME: string (nullable = true)\n",
      " |-- Rpt Dist No: integer (nullable = true)\n",
      " |-- Part 1-2: integer (nullable = true)\n",
      " |-- Crm Cd: integer (nullable = true)\n",
      " |-- Crm Cd Desc: string (nullable = true)\n",
      " |-- Mocodes: string (nullable = true)\n",
      " |-- Vict Age: integer (nullable = true)\n",
      " |-- Vict Sex: string (nullable = true)\n",
      " |-- Vict Descent: string (nullable = true)\n",
      " |-- Premis Cd: integer (nullable = true)\n",
      " |-- Premis Desc: string (nullable = true)\n",
      " |-- Weapon Used Cd: integer (nullable = true)\n",
      " |-- Weapon Desc: string (nullable = true)\n",
      " |-- Status: string (nullable = true)\n",
      " |-- Status Desc: string (nullable = true)\n",
      " |-- Crm Cd 1: integer (nullable = true)\n",
      " |-- Crm Cd 2: integer (nullable = true)\n",
      " |-- Crm Cd 3: integer (nullable = true)\n",
      " |-- Crm Cd 4: integer (nullable = true)\n",
      " |-- LOCATION: string (nullable = true)\n",
      " |-- Cross Street: string (nullable = true)\n",
      " |-- LAT: double (nullable = true)\n",
      " |-- LON: double (nullable = true)\n",
      "\n"
     ]
    }
   ],
   "source": [
    "crime_data.printSchema()"
   ]
  },
  {
   "cell_type": "markdown",
   "id": "074ad4d5-4e37-41a5-8833-7b3969368d31",
   "metadata": {},
   "source": [
    "#### Change Column Types \n",
    "Στην εκφωνηση λέει : Διατηρώντας τα αρχικά ονόματα στηλών \n",
    "\n",
    "εννοωντας οτι δεν μπορουμε να κανουμε το 'Date Rptd' -> 'Date_Rptd' ?\n",
    "- Date Rptd: date\n",
    "- DATE OCC: date\n",
    "- Vict Age: integer\n",
    "- LAT: double\n",
    "- LON: double\r"
   ]
  },
  {
   "cell_type": "code",
   "execution_count": 6,
   "id": "6b85974b-2551-4dda-859a-e86e3011dcea",
   "metadata": {},
   "outputs": [],
   "source": [
    "# code for column type changing\n",
    "crime_data = crime_data.withColumn(\"Date Rptd\", to_timestamp(\"Date Rptd\", 'MM/dd/yyyy hh:mm:ss a')) \\\n",
    "    .withColumn(\"DATE OCC\", to_timestamp(\"DATE OCC\", 'MM/dd/yyyy hh:mm:ss a')) \\\n",
    "    .withColumn(\"Vict Age\", col(\"Vict Age\").cast(\"int\")) \\\n",
    "    .withColumn(\"LAT\", col(\"LAT\").cast(\"double\")) \\\n",
    "    .withColumn(\"LON\", col(\"LON\").cast(\"double\")) \\\n",
    "    .withColumn(\"Premis_Desc\", col(\"Premis Desc\"))"
   ]
  },
  {
   "cell_type": "markdown",
   "id": "b48047e1-8739-48ef-86b3-1cc547d2beb1",
   "metadata": {},
   "source": [
    "# 4th Query :\n",
    "    1 :\n",
    "        a)\n",
    "                make_extra_columns() : distance of police stations from crime\n",
    "                join crime_table with LA Police Stations on police_station\n",
    "                and add column of police station\n",
    "                for each row compute distance from two coordinates                         \n",
    "                put this computed distance in the column named 'distance'\n",
    "\n",
    "                SELECT year, SUM(distance)/# as average_distance\n",
    "                                , COUNT(*) as #\n",
    "                FROM ...\n",
    "                WHERE WEAPON < 200\n",
    "                GROUP BY year\n",
    "                ORDER BY #\n",
    "\n",
    "\n",
    "        b)\n",
    "                SELECT police_station_name as division,\n",
    "                       SUM(distance)/# as average_distance,\n",
    "                       COUNT(*) as #\n",
    "                FROM ...\n",
    "                WHERE weapon NOT NULL\n",
    "                GROUP BY police_station_name\n",
    "                ORDER BY #\n",
    "\n",
    "    2 :"
   ]
  }
 ],
 "metadata": {
  "kernelspec": {
   "display_name": "Python 3 (ipykernel)",
   "language": "python",
   "name": "python3"
  },
  "language_info": {
   "codemirror_mode": {
    "name": "ipython",
    "version": 3
   },
   "file_extension": ".py",
   "mimetype": "text/x-python",
   "name": "python",
   "nbconvert_exporter": "python",
   "pygments_lexer": "ipython3",
   "version": "3.10.12"
  }
 },
 "nbformat": 4,
 "nbformat_minor": 5
}
