{
 "cells": [
  {
   "cell_type": "code",
   "execution_count": 9,
   "id": "76cb41e0-59ed-4053-890e-c800a9b3d5c7",
   "metadata": {},
   "outputs": [],
   "source": [
    "from geopy.distance import geodesic"
   ]
  },
  {
   "cell_type": "code",
   "execution_count": 10,
   "id": "86db12b2-ba09-401c-84a9-0ea2bf3454a0",
   "metadata": {},
   "outputs": [],
   "source": [
    "def get_distance(LAT, LON, Y, X):\n",
    "    return geopy.distance.geodesic((LAT,LON),(Y,X)).km"
   ]
  },
  {
   "cell_type": "code",
   "execution_count": 11,
   "id": "558d7598-7313-4f7b-a383-c9851ba01c99",
   "metadata": {},
   "outputs": [
    {
     "data": {
      "text/plain": [
       "1036.659212812717"
      ]
     },
     "execution_count": 11,
     "metadata": {},
     "output_type": "execute_result"
    }
   ],
   "source": [
    "get_distance(18.0, 15.0, 10.0, 10.0)"
   ]
  }
 ],
 "metadata": {
  "kernelspec": {
   "display_name": "Python 3 (ipykernel)",
   "language": "python",
   "name": "python3"
  },
  "language_info": {
   "codemirror_mode": {
    "name": "ipython",
    "version": 3
   },
   "file_extension": ".py",
   "mimetype": "text/x-python",
   "name": "python",
   "nbconvert_exporter": "python",
   "pygments_lexer": "ipython3",
   "version": "3.10.12"
  }
 },
 "nbformat": 4,
 "nbformat_minor": 5
}
